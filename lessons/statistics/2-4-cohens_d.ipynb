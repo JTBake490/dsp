Using the variable `totalwgt_lb`, investigate whether first babies are lighter or heavier than others. 

Compute Cohen’s effect size to quantify the difference between the groups.  How does it compare to the difference in pregnancy length?

CohenEffectSize(firsts.totalwgt_lb, others.totalwgt_lb)

'''The first pregnancy length tends to be fractionally shorter.
Based on the dataset provided, it would be very hard to conclude that first
pregnancies are longer.'''
